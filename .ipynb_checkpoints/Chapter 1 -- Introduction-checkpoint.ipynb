{
 "cells": [
  {
   "cell_type": "markdown",
   "metadata": {},
   "source": [
    "# Introduction\n",
    "\n",
    "\n",
    "### Futures Contracts"
   ]
  },
  {
   "cell_type": "markdown",
   "metadata": {},
   "source": [
    "> A Futures contract is an agreement to buy or sell an asset at a certain **future** time for a certain price."
   ]
  },
  {
   "cell_type": "markdown",
   "metadata": {},
   "source": [
    "### History of the Futures Markets\n",
    "\n",
    "Tracing their history back to the Middle Ages, futures markets were originally developed to meet the needs of farmers and merchants.\n",
    "    "
   ]
  },
  {
   "cell_type": "markdown",
   "metadata": {},
   "source": [
    "<div class=\"alert alert-block alert-info\">\n",
    "    <h1>About Exchanges</h1>\n",
    "\n",
    "<b>The Chicago Board of Trade:</b> Established 1848 to bring farmers and merchants together. Within a few years the first futures like contracts were signed. Know as *to-arrive contract*. Speculators soon became interested in the contract and found that trading the contracts presented an alternative to trading the underlying grain itself.\n",
    "\n",
    "<b>The Chicago Mercantile Exchange:</b> In 187 the Chicago Produce Exchange was established, providing a market for butter, eggs, oultry, and other perishable agicultural products. In 1898 the butter and egg dealers withdrew from the exchange to form the **Chicago Butter and Egg Board**. In 1919 the exchange was renamed the Chicago Mercantile Exchange (CME) and was reorganized for futures trading. Since then, the exchange has provided a market for many futures contracts including:\n",
    "\n",
    "   <ul><li>Pork Bellies</li>\n",
    "   <li>Cattle</li>\n",
    "    <li>Hogs</li>\n",
    "    <li>S&P500</li>\n",
    "    <li>Currency</li>\n",
    "    <li>Weather</li>\n",
    "    \n",
    "The CME Group now includes the CBOT, NYMEX, and KCBOT (Kansas City).\n",
    "\n",
    "</div>"
   ]
  },
  {
   "cell_type": "markdown",
   "metadata": {},
   "source": [
    "### Electronic Trading\n",
    "---\n",
    "\n",
    "Traditionally, futures have been trader using an *open-outcry system*. However, today's markets are almost completely computerized. The only remaining pit where traders trade in an open outcry is the London Bullion Market"
   ]
  },
  {
   "cell_type": "markdown",
   "metadata": {},
   "source": [
    "### OTC Markets\n",
    "---\n",
    "\n",
    "Not all trading of derivatives is on exchanges. Many trades take place in the OTC market where participants execute large block trades amongst themsevles. The number of trades taking place in the OTC markets is far smaller than the same quantity for exchange traded markets, the average transaction size OTC however, is much larger.\n",
    "\n",
    "Prior to the credit crisis of 2007 the OTC derivatives market was largely unregulated. This is why we can't have nice things.\n",
    "\n"
   ]
  },
  {
   "cell_type": "markdown",
   "metadata": {},
   "source": [
    "<div class=\"alert alert-block alert-danger\">\n",
    "<b>OTC Derivatives, not even once:</b>\n",
    "    \n",
    "The OTC markets is being broken like a wild horse and forced to become like the muleish exchanges, fun's over boys.\n",
    "\n",
    "<ol><li>Standardized OTC derivatives must, when possible, be traded on <b>swap execution facilities (SEFs)</b>.</li>\n",
    "    \n",
    "   <li>There is a requirement that a <b>central counterparty (CCP)</b> be used for most standardized OTC derivatives transactions.</li>\n",
    "   \n",
    "   <li>All trades must be reported to a central repository.</li>\n",
    "   \n",
    "</div>"
   ]
  },
  {
   "cell_type": "markdown",
   "metadata": {},
   "source": [
    "# Forward Contracts\n",
    "---\n",
    "\n",
    "> A forward is similar to a future in that it is an agreement to buy/sell an asset at a certain time and price. **But, whereas futures contracts are traded on exchanges, forward contracts trade OTC**.\n",
    "\n",
    "Forwards on currency exchange are very populars instruments. Most large banks emply both spot and forward forex traders. Spot traders are trading a foreign currency for almost immediate delivery. Forward traders, on the other hand, are trading for delivery at a future time. Table 1 provides quotes for cable that might be made by a large bank on 13/05/2015\n",
    "\n",
    "**Table 1:**\n",
    "\n",
    "  **GBPUSD**| *bid* | *ask* \n",
    " -----:|:-----:|-----:\n",
    "   Spot| 1.5746 | 1.5750|\n",
    " 1mo fwd| 1.5742 | 1.5747|\n",
    " 3mo fwd| 1.5736 | 1.5742|\n",
    " 6mo fwd| 1.5730 | 1.5736|\n",
    "\n"
   ]
  },
  {
   "cell_type": "code",
   "execution_count": null,
   "metadata": {},
   "outputs": [],
   "source": []
  }
 ],
 "metadata": {
  "kernelspec": {
   "display_name": "Python 3",
   "language": "python",
   "name": "python3"
  },
  "language_info": {
   "codemirror_mode": {
    "name": "ipython",
    "version": 3
   },
   "file_extension": ".py",
   "mimetype": "text/x-python",
   "name": "python",
   "nbconvert_exporter": "python",
   "pygments_lexer": "ipython3",
   "version": "3.7.2"
  }
 },
 "nbformat": 4,
 "nbformat_minor": 2
}
