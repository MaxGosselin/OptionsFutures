{
 "cells": [
  {
   "cell_type": "code",
   "execution_count": 4,
   "metadata": {},
   "outputs": [],
   "source": [
    "import numpy as np"
   ]
  },
  {
   "cell_type": "code",
   "execution_count": null,
   "metadata": {},
   "outputs": [],
   "source": []
  },
  {
   "cell_type": "markdown",
   "metadata": {},
   "source": [
    "# Interest Rates\n",
    "\n",
    "If and ammount A is invested for n years at an interest rate of R per annum, compounded annually we have:\n",
    "\n",
    "#### terminal value = $A( 1 + R )^{n}$\n",
    "   \n",
    "If the rate is compounded m times per annum we have    \n",
    "   \n",
    "#### terminal value = $A( 1 + R/m )^{mn}$\n",
    "\n",
    "When m=1 the rate is sometimes referred to as the *equivalent annual interest rate (EAR)*\n",
    "\n",
    "#### Continuous Compounding\n",
    "\n",
    "The limit as m tends to infinity os known as **continuous compounding**. With continuous compounding an ammount A invested for n years at rate R grows to \n",
    "\n",
    "### terminal value = $Ae^{Rn}$\n"
   ]
  },
  {
   "cell_type": "code",
   "execution_count": 26,
   "metadata": {},
   "outputs": [
    {
     "name": "stdout",
     "output_type": "stream",
     "text": [
      "$100 invested at 10% compounded continuously for ten years will grow to: $271.83\n"
     ]
    }
   ],
   "source": [
    "def continuous_compounder(A, r, n):\n",
    "    return round(A * np.exp(r * n), 2)\n",
    "\n",
    "tv = continuous_compounder(100, 0.1, 10)\n",
    "\n",
    "print(f\"$100 invested at 10% compounded continuously for ten years will grow to: ${tv}\")"
   ]
  },
  {
   "cell_type": "markdown",
   "metadata": {},
   "source": [
    "**Conversions**\n",
    "\n",
    "Suppose that $R_{c}$ is the continuously compounded rate equivalent to $R_{m}$ which is a rate compounded m times per annum. We have:\n",
    "\n",
    "\n",
    "### $Ae^{R_{c}n} = a(1+R_{m}/m)^{mn}$\n",
    "\n",
    "or\n",
    "\n",
    "### $e^{R_{c}} = (1+R_{m}/m)^{m}$\n",
    "\n",
    "which yields\n",
    "\n",
    "### $R_{c} = m\\ln (1+R_{m}/m)$\n",
    "\n",
    "and\n",
    "\n",
    "### $R_{m} = m(e^{R_{c}/m} - 1)$\n"
   ]
  },
  {
   "cell_type": "code",
   "execution_count": 27,
   "metadata": {},
   "outputs": [],
   "source": [
    "def periodical_to_cont(m, Rm):\n",
    "    '''given the rate Rm and the number of periods in a year m\n",
    "    return the continuously compounded rate.'''\n",
    "    \n",
    "    return m * np.log(1 + Rm/m)\n",
    "\n",
    "def cont_to_periodical(m, Rc):\n",
    "    '''given the continuous rate Rc and the number of periods in a year m\n",
    "    return the m-times-yearly compounded rate.'''\n",
    "    \n",
    "    return m * (np.exp(Rc/m) - 1)"
   ]
  },
  {
   "cell_type": "code",
   "execution_count": 28,
   "metadata": {},
   "outputs": [
    {
     "name": "stdout",
     "output_type": "stream",
     "text": [
      "10% continuous compounding annual equivalent: 10.52%\n"
     ]
    }
   ],
   "source": [
    "print(f\"10% continuous compounding annual equivalent: {round(cont_to_periodical(1, 0.1), 4) * 100}%\")"
   ]
  },
  {
   "cell_type": "code",
   "execution_count": 29,
   "metadata": {},
   "outputs": [
    {
     "name": "stdout",
     "output_type": "stream",
     "text": [
      "10% annual compounding rate continuous equivalent: 9.53%\n"
     ]
    }
   ],
   "source": [
    "print(f\"10% annual compounding rate continuous equivalent: {round(periodical_to_cont(1, 0.1), 4) * 100}%\")"
   ]
  },
  {
   "cell_type": "markdown",
   "metadata": {},
   "source": [
    "## Zero Rates\n",
    "\n",
    "The zero rate is the rate of interest returned on an investment that starts today and ends in *n* years.\n",
    "\n",
    "A five year zero rate with continuous compounding is quoted at 5%/year.\n",
    "\n",
    "\\$100 invested today will grow, over five years, to:\n",
    "\n",
    "$ 100 * e^{0.05 * 5} = 128.40$\n",
    "\n",
    "#### Bootstrap Method\n",
    "\n",
    "Basically, discount each coupon by its own zero rate, correspoding to the time. Then you solve for the missing rate with the price n stuff."
   ]
  },
  {
   "cell_type": "markdown",
   "metadata": {},
   "source": [
    "### Forward Rates\n",
    "\n",
    "forward rates are the interest rates implied by current zero rates for future time periods.\n",
    "\n",
    "Generally, if $R_{1}$ and $R_{2}$ are the zero rates for maturities $T_{1}$ and $T_{2}$ respectively, and $R_{f}$ is the forward interest rate for the time between $T_{1}$ and $T_{2}$, we have:\n",
    "\n",
    "## $ R_{f} = \\frac {R_{2}T_{2}-R_{1}T_{1}}{T_{2}-T_{1}}$\n",
    "\n",
    "or, rewritten as:\n",
    "\n",
    "## $R_{f} = R_{2} + (R_{2}-R_{1}) \\frac{T_1}{T_{2}-T_{1}}$"
   ]
  },
  {
   "cell_type": "markdown",
   "metadata": {},
   "source": [
    "### Forward Rate Agreements (FRA)\n",
    "\n",
    "An OTC instrument designed to ensure that a certain interest rate will apply to either borrowing or lending a certain princiapl during a specified future period of time. The usual assumption undelying the contract is that the borrowing or lending would normally be done at LIBOR.\n",
    "\n",
    "Consider the FRA where company X is agreeing to lend money top company Y for the period between $T_{1}$ and $T_{2}$; Let:\n",
    "\n",
    "$R_{K}$: The agreed rate in the FRA\n",
    "\n",
    "$R_{F}$: The forward LIBOR for the period between $T_{1}$ and $T_{2}$\n",
    "\n",
    "$R_{M}$: The actual LIBOR observed in the market at  $T_{1}$ for the period between $T_{1}$ and $T_{2}$\n",
    "\n",
    "$L$: The principal underlying the contract\n",
    "\n",
    "Normally, Xcom would earn  $R_{M}$ from the LIBOR loan, with the FRA it earns $R_{K}$ instead. The extra interest earned is by entering into the FRA is given by $R_{K}-R_{M}$. The extra cash flow from the FRA is therefore:\n",
    "\n",
    "### $L(R_{K}-R_{M})(T_{2}-T_{1})$\n",
    "\n",
    "Similarily the CF to Ycom is:\n",
    "\n",
    "### $L(R_{M}-R_{K})(T_{2}-T_{1})$\n",
    "\n",
    "\n",
    "Usually FRAs are settled at $T_{1}$ instead of $T_{2}$. This means you have to discount the payoff, for Xcom we now get:\n",
    "\n",
    "# $\\frac {L(R_{K}-R_{M})(T_{2}-T_{1})}{1 + R_{M} (T_{2} - T_{1})}$\n",
    "\n",
    "\n",
    "and for Ycom:\n",
    "\n",
    "# $\\frac {L(R_{M}-R_{K})(T_{2}-T_{1})}{1 + R_{M} (T_{2} - T_{1})}$\n",
    "\n",
    "\n",
    "### Valuing a FRA\n",
    "\n",
    "We need 2 things:\n",
    "\n",
    "1. Assume that forward rates are realized ($R_{F} = R_{M}$) to calculate payoff\n",
    "2. Discount the payoff at the risk-free rate\n",
    "\n",
    "### $V_{FRA} = L(R_{M}-R_{K})(T_{2}-T_{1})e^{-R_{2}T_{2}}$\n",
    "\n",
    "Where $R_{2}$ is the continuously compounded zero rate for a maturity $T_{2}$.\n",
    "\n",
    "\n"
   ]
  },
  {
   "cell_type": "markdown",
   "metadata": {},
   "source": [
    "### Some Theories on the Term Structure of Rates\n",
    "\n",
    "**Expectations Theory** basically says that long-term rates should reflect expected future short-term rates. A forward interest rate corresponding to a certain future period is equal to the expected future zero rate for that period.\n",
    "\n",
    "**Market Segmentation Theory** says that there's no relationship between short, medium, and long term rates. Supply and demand for different maturities operate independently of each other.\n",
    "\n",
    "**Liquidity Preference Theory** is the one the book likes. The idea is that investors prefer to preserve liquidity and invest funds for short periods of time while borrowers want to borrow for longer time periods at fixed rates. This leads to forward rates being greater than expected future zero rates. This is consistent with the data that shows that generally yield curves slope up more often than down (Fed pls don't hurt me).\n",
    "\n",
    "Management of net interest income is key for banks to avoid interest rate risks. Banks need to match maturities of assets/liabilities or else they could get into trouble. They do this by balancing the deposit and lending rates for long and short terms to incentivize customers to deposit/borrow at the desired rates. The net result of this behaviour is liquidity preference theory in action.\n",
    "\n"
   ]
  },
  {
   "cell_type": "code",
   "execution_count": null,
   "metadata": {},
   "outputs": [],
   "source": []
  }
 ],
 "metadata": {
  "kernelspec": {
   "display_name": "Python 3",
   "language": "python",
   "name": "python3"
  },
  "language_info": {
   "codemirror_mode": {
    "name": "ipython",
    "version": 3
   },
   "file_extension": ".py",
   "mimetype": "text/x-python",
   "name": "python",
   "nbconvert_exporter": "python",
   "pygments_lexer": "ipython3",
   "version": "3.7.2"
  }
 },
 "nbformat": 4,
 "nbformat_minor": 2
}
