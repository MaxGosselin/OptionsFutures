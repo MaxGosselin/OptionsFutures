{
 "cells": [
  {
   "cell_type": "markdown",
   "metadata": {},
   "source": [
    "# Futures Markets \n",
    "---\n",
    "\n",
    "\n",
    "### Opening and Closing Futures Positions\n",
    "\n",
    "A contract is usually ref'd to by its delivery month. Thus a trader might talk about an August Zinc contract or a May Brent Crude contract.\n",
    "\n",
    "There is a period of time during the delivery month (usually the whole month) when delivery of the underlying can be made. Trading in the contract usually ceases at some point in the delivery period. The party on the short side of the trade has the right to choose when during the delivery period the delivery is made.\n",
    "\n",
    "It may surprise you to learn that the majority of futures contracts are cash settled, that is to say delivery of the underlying asset never takes place. Instead traders mostly choose to close out their positions prior to to the delivery period. Even in cases where the contract holder may wish to purchase the asset, they often prefer to close the position for cash and make the purchase in the normal fashion."
   ]
  },
  {
   "cell_type": "markdown",
   "metadata": {},
   "source": [
    "### Specification of a futures contract"
   ]
  },
  {
   "cell_type": "markdown",
   "metadata": {},
   "source": [
    "When developing a contract the exchange must specify in some detail the nature of the contract. In particular it must specify the asset, the contract size, where delivery can be made, and when delivery can be made.\n",
    "\n",
    "---"
   ]
  },
  {
   "cell_type": "markdown",
   "metadata": {},
   "source": [
    "### The Asset"
   ]
  },
  {
   "cell_type": "markdown",
   "metadata": {},
   "source": [
    "- When the asset is a commodity the exchange must stipulate a minimum grade.\n",
    "    - For some commodities a range of grades can be substituted with predetermined price adjustments\n",
    "    \n",
    "- Financial assets underlying futures are well defined and unambiguous\n",
    "    - Fun fact though, the underlying asset in the treasury bond contract is any UST bond that has a maturity between 10-25 years on the first day of the expiry month. "
   ]
  },
  {
   "cell_type": "markdown",
   "metadata": {},
   "source": [
    "### The contract size\n",
    "\n",
    "The contract size specifies the amount of the asset that has to be delivered under one contract. The proper sizing of the contract is important to best meet the needs of the market participant. The correct size depends on the likely users.\n",
    "\n",
    "### Delivery Arrangements\n",
    "\n",
    "The delivery months vary by contract and are chosen by the exchange. The exchange specifies when trading in a contract begins, ends, and when delivery can be made.\n",
    "\n",
    "### Price Quotes\n",
    "\n",
    "The exchange decides how prices are to be quoted. For example, crude oil futures prices are quoted in dollars and cents; Treasury Bonds and Treasury note futures prices are quoted and dollars and 1/32nds of a dollar.\n",
    "\n",
    "### Price Limits and Position Limits\n",
    "\n",
    "For most contracts daily price movements are limited by circuit breakers whose levels are set by the exchange. A limit up/down move is the max the price can move up/down in a day. Normally trading is halted for the day in a contract that is limit up/down. Howeve, in some instances the exchanges can step in to adjust the limits.\n",
    "\n",
    "### Convergence of future and spot prices\n",
    "\n",
    "As the delivery period approaches the future and spot prices converge. It's easy to see why, otherwise a trader could take advantage of this arbitrage (this example assumes fut>spot)\n",
    "\n",
    " 1. Sell future\n",
    " 2. Buy underlying\n",
    " 3. Make delivery\n",
    " \n",
    "Thus the trader would net the delta of the sale and purchase prices risk-free. As traders try and exploit this opportunity the spread is eliminated. The trade works the same way when the contract is in backwardation (spot > fut).\n",
    "\n",
    "---"
   ]
  },
  {
   "cell_type": "markdown",
   "metadata": {},
   "source": [
    "## The operation of Margin Accounts\n",
    "\n",
    "> One of the key roles of the exchange is to organize trading so that contract defaults are avoided. This is where margin accounts come in.\n",
    "\n",
    "### Daily Settlement"
   ]
  },
  {
   "cell_type": "markdown",
   "metadata": {},
   "source": [
    "To illustrate how margin accounts work, let's consider this scenario:\n",
    "\n",
    "- An investor orders his broker to buy two Dec gold futures.\n",
    "- Suppose the current gold contract trades at $1250 per oz. \n",
    "- Because the contract size is 100oz, the investor has contracted to buy 200oz at \\$1250\n",
    "\n",
    "The broker will require that the investor deposit funds in a **margin account**, this initial deposit is known as the *initial margin*. let the initial margin be \\$6000\n",
    "\n",
    "    `initial margin = 6000 * 2 = 12000\n",
    "\n",
    "At the end of each trading day the margin account is adjusted to reflect the investor's gain or loss. This practice is referred to as **_daily settlement or marking to market_**.\n",
    "\n",
    "How a margin account balance can fluctuate:\n",
    "\n",
    "    Scenario 1 - futures price closes at \\$1241 on the first day:\n",
    "    \n",
    "        NLV = position_value - position_cost\n",
    "             = (1241 * 100 * 2) - (1250 * 100 * 2)\n",
    "             = -(9 * 200)\n",
    "             = -1800\n",
    "        \n",
    "        The balance in the margin account would be reduced to \\$10200.\n",
    "        \n",
    "        \n",
    "             \n",
    "    Scenario 2 - futures price closes at \\$1259 on the first day:\n",
    "             \n",
    "        NLV = position_value - position_cost\n",
    "             = (1259 * 100 * 2) - (1250 * 100 * 2)\n",
    "             = 9 * 200\n",
    "             = 1800\n",
    "             \n",
    "        The balance in the margin account would be increased to \\$13800.\n",
    "        \n",
    "A trade is settled at the close of the first day it takes place and every trading day after that. Note that the daily settlement is not just an arrangement between broker and client, the broker must send the margin drawdowns of his client to the exchange clearing house and will collect cash from the clearing house on behalf of his client for margin increases.\n",
    "\n",
    "**The investor is entitled to withdraw any balance in the margin account in excess of the initial margin**.\n",
    "\n",
    "---\n",
    "\n",
    "### Maintenance margin\n",
    "\n",
    "To ensure that there is never a negative balance in a margin account a *maintenance margin*, which is somewhat lower than the initial margin, is set.\n",
    "\n",
    "*If the balance in the account falls below the maintenance margin the client is issued a margin call and is required to top up the account __to the initial margin level__ the next day*.\n",
    "\n",
    "The extra amount is known as the *variation margin*. If the investor is unable to come up with the variation margin to meet the margin call the broker will close out his position.\n",
    "\n",
    "How a margin call plays out:\n",
    "\n",
    "Continuing with the data from the previous section and adding a 75% maintenance margin requirement ($9000 in this scenario)\n",
    "\n",
    "Day 1 - futures price closes at \\$1241 on the first day:\n",
    "\n",
    "    NLV = position_value - position_cost\n",
    "         = (1241 * 100 * 2) - (1250 * 100 * 2)\n",
    "         = -(9 * 200)\n",
    "         = -1800\n",
    "\n",
    "    The balance in the margin account would be reduced to \\$10200.\n",
    "\n",
    "Day 2 - futures price closes at \\$1229 on the second day:\n",
    "\n",
    "    NLV = position_value - position_cost\n",
    "         = (1229 * 100 * 2) - (1241 * 100 * 2)\n",
    "         = -(12 * 200)\n",
    "         = -2400\n",
    "\n",
    "    The balance in the margin account would be reduced to \\$7800.\n",
    "    \n",
    "    margin call = initial margin - position value\n",
    "                = 12000 - 7800\n",
    "                = 4200\n",
    "\n",
    "The balance therefore falls below the maintenance margin requirement and the trader is margin called. The trader needs to post $4200 by the close of trading on day 3 or their position will be closed out by their broker.\n",
    "\n",
    "----"
   ]
  },
  {
   "cell_type": "markdown",
   "metadata": {},
   "source": [
    "#### Excercise:\n",
    "\n",
    "A company enters into a long contract to buy 5,000 \n",
    "bushels of wheat for 2.50 per bushel. The initial margin is \n",
    "3,000, and the maintenance margin is 2,000. What price \n",
    "change would lead to a margin call tomorrow? Under which \n",
    "circumstances could 1,500 be withdrawn from the margin \n",
    "account?\n",
    "\n",
    "Solution:\n",
    "\n",
    "    margin call price = initial price - NLV swing of 1000\n",
    "                      = 2.50 - (1000/5000)\n",
    "                      = 2.50 - 0.20\n",
    "                      = 2.30\n",
    "    \n",
    "    price to withdraw 1500 = + (1500/5000)\n",
    "                           = current price + 0.3\n",
    "                            \n",
    "----\n",
    "    "
   ]
  },
  {
   "cell_type": "markdown",
   "metadata": {},
   "source": [
    "### Quick Glossary\n",
    "\n",
    "#### Futures Trading\n",
    "\n",
    "**Open interest:** the total number of contracts outstanding \n",
    "\n",
    "equal to the number of long positions or the \n",
    "number of short positions\n",
    "\n",
    "Important: \n",
    "the number of long positions \n",
    "always equal to the number of short positions\n",
    "\n",
    "**Settlement price:**  the price just before the final bell each day \n",
    "used for the daily settlement process\n",
    "\n",
    "**Trading volume:**  the number of trades in 1 day\n",
    "\n",
    "#### Delivery\n",
    "\n",
    "**First Notice Day:** The first day in which a notice of intention to make delivery can be given to the exchange.\n",
    "\n",
    "**Last Notice Day:** The last day in which a notice of intention to make delivery can be given to the exchange.\n",
    "\n",
    "**Last Trading Day:** The day upon which trading in the contract ceases, generally a couple days prior to the last notice date.\n",
    "\n",
    "----"
   ]
  },
  {
   "cell_type": "markdown",
   "metadata": {},
   "source": [
    "## Forwards\n",
    "\n",
    "Forwards differ from futures in a number of ways. Forwards are private agreements between two parties and, unlike futures, are only settled at the end of the contract's life. A forward generally has one mutually agreed upon settlement date and the contract is always settled either in cash or with delivery of the underlying. "
   ]
  }
 ],
 "metadata": {
  "kernelspec": {
   "display_name": "Python 3",
   "language": "python",
   "name": "python3"
  },
  "language_info": {
   "codemirror_mode": {
    "name": "ipython",
    "version": 3
   },
   "file_extension": ".py",
   "mimetype": "text/x-python",
   "name": "python",
   "nbconvert_exporter": "python",
   "pygments_lexer": "ipython3",
   "version": "3.7.2"
  }
 },
 "nbformat": 4,
 "nbformat_minor": 2
}
