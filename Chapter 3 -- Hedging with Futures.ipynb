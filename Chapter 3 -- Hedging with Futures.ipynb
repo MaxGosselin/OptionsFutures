{
 "cells": [
  {
   "cell_type": "markdown",
   "metadata": {},
   "source": [
    "# Hedging with Futures\n",
    "\n",
    "Many participants in the futures market are hedgers. Hedgers intend to use futures to mitigate risks posed to them by the prices of the underlying assets.\n",
    "\n",
    "#### Short Hedges\n",
    "\n",
    "Short hedges are generally sought by participants who already own an asset and expect to sell it at some time in the future. A short hedge allows them to secure a price today.\n",
    "\n",
    "Consider a OJ producer who knows he will produce 100,000 lbs of frozen concentrated OJ in three months time. Suppose that OJ futures are written on lots of 1000 lbs. If the current 3 month futures price of 1.00 per lb suits the producer he can lock it in by selling 100 contracts.\n",
    "\n",
    "Remember that spot and futures prices will converge to near parity by the delivery date.\n",
    "\n",
    "suppose that in three months time spot OJ trades at 1.02/lb:\n",
    "    \n",
    "    net proceeds = proceeds from OJ sales - cost of hedge\n",
    "                 = 100000 * 1.02 - 100 * 1000 * (1.02 - 1.00)\n",
    "                 = 102000 - 2000\n",
    "                 = 100000\n",
    "                 \n",
    "                 or 1.00/lb as expected\n",
    "\n",
    "suppose that in three months time spot OJ trades at 0.97/lb:\n",
    "    \n",
    "    net proceeds = proceeds from OJ sales - cost of hedge\n",
    "                 = 100000 * 0.97 - 100 * 1000 * (0.97 - 1.00)\n",
    "                 = 97000 + 3000\n",
    "                 = 100000\n",
    "                 \n",
    "                 or 1.00/lb as expected"
   ]
  },
  {
   "cell_type": "markdown",
   "metadata": {},
   "source": [
    "### Long Hedges\n",
    "\n",
    "Long hedges are sought by participants who wall have to purchase an asset at some known time in the future and seek to lock in a price now.\n",
    "\n",
    "Consider a breakfast chain that will need to purchase 100,000 lbs of pork bellies in two months time. Supose that futures contracts are written on 1000 lbs of pork bellies. If the current price of the 2 month future contract of 5.00/lb suits the chain they can lock in the price by going long on 100 contracts.\n",
    "\n",
    "suppose that in three months time pork bellies trade at 5.05/lb:\n",
    "\n",
    "    net proceeds = proceeds from OJ sales - cost of hedge\n",
    "             = 100000 * 5.05 - 100 * 1000 * (5.05 - 5.00)\n",
    "             = 505000 - 5000\n",
    "             = 500000\n",
    "\n",
    "             or 5.00/lb as expected\n",
    "\n",
    "suppose that in three months time pork bellies trade at 4.87/lb:\n",
    "\n",
    "    net proceeds = proceeds from pork bellies sales - cost of hedge\n",
    "             = 100000 * 4.87 - 100 * 1000 * (4.87 - 5.00)\n",
    "             = 487000 + 13000\n",
    "             = 500000\n",
    "\n",
    "             or 5.00/lb as expected\n",
    "             \n",
    "----"
   ]
  },
  {
   "cell_type": "markdown",
   "metadata": {},
   "source": [
    "### Basis Risk\n",
    "\n",
    "In practice hedging is not as easy as shown above. Life has a way of getting in the way if you'll pardon the pun. Some things to consider:\n",
    "\n",
    "1. What if you can't trade a contract on exactly the asset you want to hedge? (Bougie small-crop fair trade coffee anyone?)\n",
    "2. What if you aren't exactly sure when you're unloading/buying the asset?\n",
    "3. What if you have to close the hedge out before expiry of the contract?\n",
    "\n",
    "That last sucker is what gives rise to the **basis risk**.\n",
    "\n",
    "The **basis** in a hedging context is the difference between the spot price and the futures price on the asset*.\n",
    "    \n",
    "    basis = spot price - futures price\n",
    "\n",
    "\\* Note sometimes the equation is reversed, especially when the future is on a financial asset"
   ]
  },
  {
   "cell_type": "markdown",
   "metadata": {},
   "source": [
    "#### Basis risk examples"
   ]
  },
  {
   "cell_type": "code",
   "execution_count": 24,
   "metadata": {},
   "outputs": [],
   "source": [
    "class BasisCalc:\n",
    "    def __init__(self, spot_t1=None, spot_t2=None, fut_t1=None, fut_t2=None):\n",
    "        \n",
    "        self.s1 = spot_t1\n",
    "        self.s2 = spot_t2\n",
    "        self.f1 = fut_t1\n",
    "        self.f2 = fut_t2\n",
    "        self.b1 = self.s1 - self.f1\n",
    "        self.b2 = self.s2 - self.f2\n",
    "        "
   ]
  },
  {
   "cell_type": "code",
   "execution_count": 25,
   "metadata": {},
   "outputs": [],
   "source": [
    "long = BasisCalc(2.50, 2.00, 2.20, 1.90)"
   ]
  },
  {
   "cell_type": "markdown",
   "metadata": {},
   "source": [
    "Lets show the relationship between heding and basis risk if all values are know in advance.\n",
    "\n",
    "The effective price of the hedged asset is"
   ]
  },
  {
   "cell_type": "code",
   "execution_count": 26,
   "metadata": {},
   "outputs": [
    {
     "data": {
      "text/plain": [
       "2.3000000000000003"
      ]
     },
     "execution_count": 26,
     "metadata": {},
     "output_type": "execute_result"
    }
   ],
   "source": [
    "long.s2 + long.f1 - long.f2"
   ]
  },
  {
   "cell_type": "markdown",
   "metadata": {},
   "source": [
    "And we can see that this is equal to the futures price at t=1 plus the basis at t2"
   ]
  },
  {
   "cell_type": "code",
   "execution_count": 27,
   "metadata": {},
   "outputs": [
    {
     "data": {
      "text/plain": [
       "'Futures price at t=1: 2.2, basis at t=2: 0.10000000000000009, sum: 2.3000000000000003'"
      ]
     },
     "execution_count": 27,
     "metadata": {},
     "output_type": "execute_result"
    }
   ],
   "source": [
    "f\"Futures price at t=1: {long.f1}, basis at t=2: {long.b2}, sum: {long.f1+long.b2}\""
   ]
  },
  {
   "cell_type": "markdown",
   "metadata": {},
   "source": [
    "### Choice of Contract\n",
    "\n",
    "In previous sections the contracts were being selected with matching delivery dates. In reality hedgers **generally hedge using a contract expiring as close as possible, but after, the time of need**. Delivery can be expensive and inconvenient and we therefore avoid it by constructing our hedges by selecting our contracts this way.\n",
    "___"
   ]
  },
  {
   "cell_type": "markdown",
   "metadata": {},
   "source": [
    "### Cross Hedging\n",
    "\n",
    "When the asset underlying the futures contract and the asset were trying to hedge against don't match it's called **cross hedging**.\n",
    "\n",
    "Usually the assets being hedged are as highly correlated as possible. Take for example Space X needing Rocket Fuel but, there being no market for it, entering into heating oil contracts instead to hedge.\n",
    "\n",
    "#### Calculating Minumum Variance Hedge Ratio\n",
    "\n",
    "Let:\n",
    "    - delta S denote the change in spot price\n",
    "    - delta F denote the change in futures price\n",
    "    - sigma S denote the standard deviation of dS\n",
    "    - sigma F denote the standard deviation of dF\n",
    "    - rho denote the coeff of corr between the two\n",
    "\n",
    "We will denote the minvar hedge ratio by h*.\n",
    "\n",
    "    h* = rho * ( sS / sF )\n",
    "    \n",
    "Which is the slope of the best fit regression line of S on F. This shows us that the optimal ratio is dependant on the correlation between the two assets. \n",
    "\n",
    "The *hedge effectiveness* can be defined as the proportion of the variance that is eliminated by hedging. This is the R-squared from the regression and equals rho^2.\n"
   ]
  },
  {
   "cell_type": "code",
   "execution_count": 28,
   "metadata": {},
   "outputs": [],
   "source": [
    "def find_min_var_h(s_S, s_F, r):\n",
    "    return r * (s_S/s_F)"
   ]
  },
  {
   "cell_type": "markdown",
   "metadata": {},
   "source": [
    "###### Examples:\n",
    "\n",
    "1. perfect world:"
   ]
  },
  {
   "cell_type": "code",
   "execution_count": 29,
   "metadata": {},
   "outputs": [
    {
     "data": {
      "text/plain": [
       "1.0"
      ]
     },
     "execution_count": 29,
     "metadata": {},
     "output_type": "execute_result"
    }
   ],
   "source": [
    "find_min_var_h(0.25, 0.25, 1)"
   ]
  },
  {
   "cell_type": "markdown",
   "metadata": {},
   "source": [
    "as you would expect since spot var = fut var\n",
    "\n",
    "2. 2x world:"
   ]
  },
  {
   "cell_type": "code",
   "execution_count": null,
   "metadata": {},
   "outputs": [],
   "source": []
  },
  {
   "cell_type": "code",
   "execution_count": 12,
   "metadata": {},
   "outputs": [
    {
     "data": {
      "text/plain": [
       "0.5"
      ]
     },
     "execution_count": 12,
     "metadata": {},
     "output_type": "execute_result"
    }
   ],
   "source": [
    "find_min_var_h(0.25, 0.50, 1)"
   ]
  },
  {
   "cell_type": "markdown",
   "metadata": {},
   "source": [
    "\n",
    "#### Calculating the Optimal Number of Contracts\n",
    "\n",
    "To Calculate the number of contract that should be used, define:\n",
    "\n",
    " - Qa: size of hedge (units)\n",
    " - Qf: Size of futures contract (units)\n",
    " - N*: Optimal number of futures contracts for hedging\n",
    " \n",
    "From the derivation of h* we see that the contract should be on h* times Qa units. The number of contracts required is therefore given by:\n",
    "\n",
    "    N* = h*(Qa)/Qf\n",
    "    "
   ]
  },
  {
   "cell_type": "code",
   "execution_count": 17,
   "metadata": {},
   "outputs": [],
   "source": [
    "def find_n_star(h_star, Qa, Qf):\n",
    "    return round((h_star * Qa)/Qf)"
   ]
  },
  {
   "cell_type": "markdown",
   "metadata": {},
   "source": [
    "###### Example:\n"
   ]
  },
  {
   "cell_type": "code",
   "execution_count": 18,
   "metadata": {},
   "outputs": [
    {
     "data": {
      "text/plain": [
       "37"
      ]
     },
     "execution_count": 18,
     "metadata": {},
     "output_type": "execute_result"
    }
   ],
   "source": [
    "find_n_star(0.7777, 1000000, 21000)"
   ]
  },
  {
   "cell_type": "markdown",
   "metadata": {},
   "source": [
    "#### Tailing the Hedge\n",
    "\n",
    "Adjusting for daily settlement is known as tailing the hedge. This is accomplished by redefining:\n",
    "\n",
    "    - Va: dollar value of position being hedged (spot)\n",
    "    - Vf: dollar value of one contract\n",
    "    \n",
    "The equation thereby becomes:\n",
    "\n",
    "    N* = h*(Va)/Vf\n",
    "    "
   ]
  },
  {
   "cell_type": "code",
   "execution_count": 21,
   "metadata": {},
   "outputs": [],
   "source": [
    "def tailed_n_star(h_star, Qa, Qf, S, F):\n",
    "    n_star = (h_star * (Qa * S))/(Qf * F)\n",
    "    return round(n_star)"
   ]
  },
  {
   "cell_type": "markdown",
   "metadata": {},
   "source": [
    "###### Example:\n"
   ]
  },
  {
   "cell_type": "code",
   "execution_count": 22,
   "metadata": {},
   "outputs": [
    {
     "data": {
      "text/plain": [
       "36"
      ]
     },
     "execution_count": 22,
     "metadata": {},
     "output_type": "execute_result"
    }
   ],
   "source": [
    "tailed_n_star(0.7777, 1000000, 21000, 1.94, 1.99)"
   ]
  },
  {
   "cell_type": "markdown",
   "metadata": {},
   "source": [
    "\n",
    "### Index Futures\n",
    "\n",
    "Based on a portfolio of stocks. There are futures on most world markets but big ones are DJI-mini, S&P500-mini, NASDAQ-mini. The minis all trade more actively.\n",
    "\n",
    "Index futures are all cash settled.\n",
    "\n",
    "#### Hedging an Equity Portfolio\n",
    "\n",
    "Stock index futures can be used to hedge an equity portfolio in a few ways.\n",
    "\n",
    "Let:\n",
    "\n",
    "- Va : Current value of the portfolio\n",
    "- Vf : Current value of one futures contract\n",
    "\n",
    "If the portfolio closely mirrors the index (say long SPY ETFs only) then the number of futures to short is simply\n",
    "\n",
    "    Nf = Va / Vf\n",
    "\n",
    "###### Example:\n",
    "\n",
    "Consider a portfolio worth 5.05 million of SPY ETFs. The index future is written on \\$250 times the index and trades at 1010.\n",
    "\n",
    "    Nf = 5050000 / (250 * 1010)\n",
    "    Nf = 5050000 / 252500\n",
    "    Nf = 20\n",
    "\n",
    "If the portfolio doesn't closely mirror the index then the number of futures to short is adjusted by the portfolio's beta\n",
    "\n",
    "    Nf = beta * (Va / Vf)\n",
    "    \n",
    "I'm not going to demonstrate it but hedgin this way (in a perfect world) allows the investor to earn the risk-free rate. Why not just invest in T-bills then? One reason is maybe they like their stocks and are just not sure about the overall health of the market. Another reason is that they want to get out of the market for a short period of time (hedgies going to burning man?) and it's cheaper to hedge with futures than the transaction costs associated with exiting and re-entering the market.\n",
    "\n",
    "#### Changing the Beta of a Portfolio\n",
    "\n",
    "In general to change the beta of a portfolio from b to b* we have:\n",
    "\n",
    "    If b > b*:\n",
    "    \n",
    "        Nf = (b - b*)(Va / Vf)\n",
    "        \n",
    "    else:\n",
    "    \n",
    "        Nf = (b* - b)(Va / Vf)\n",
    "\n",
    "\n",
    "**Locking in alpha**\n",
    "\n",
    "If you believe your portfolio will outperform a well diversified portfolio of the same beta you can lock in the alpha and hedge systematic risk by shorting b(Va/Vf) futures contracts.\n",
    "\n",
    " \n",
    "\n",
    "\n",
    "    \n",
    "  "
   ]
  },
  {
   "cell_type": "code",
   "execution_count": null,
   "metadata": {},
   "outputs": [],
   "source": []
  },
  {
   "cell_type": "code",
   "execution_count": null,
   "metadata": {},
   "outputs": [],
   "source": []
  }
 ],
 "metadata": {
  "kernelspec": {
   "display_name": "Python 3",
   "language": "python",
   "name": "python3"
  },
  "language_info": {
   "codemirror_mode": {
    "name": "ipython",
    "version": 3
   },
   "file_extension": ".py",
   "mimetype": "text/x-python",
   "name": "python",
   "nbconvert_exporter": "python",
   "pygments_lexer": "ipython3",
   "version": "3.7.2"
  }
 },
 "nbformat": 4,
 "nbformat_minor": 2
}
